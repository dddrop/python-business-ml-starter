{
 "cells": [
  {
   "cell_type": "code",
   "execution_count": 5,
   "metadata": {
    "ExecuteTime": {
     "end_time": "2023-12-12T14:39:11.335062Z",
     "start_time": "2023-12-12T14:39:11.319300Z"
    }
   },
   "outputs": [
    {
     "data": {
      "text/plain": "   leaving gender  age job_role  job_satisfaction  environment_satisfaction  \\\n0        1     女性   41    営業責任者                 4                         2   \n1        0     男性   49      研究員                 2                         3   \n2        1     男性   37      技術者                 3                         4   \n3        0     女性   33      研究員                 3                         4   \n4        0     男性   27      技術者                 2                         1   \n\n   over_time  income  \n0          1  1198.6  \n1          0  1026.0  \n2          1   418.0  \n3          1   581.8  \n4          0   693.6  ",
      "text/html": "<div>\n<style scoped>\n    .dataframe tbody tr th:only-of-type {\n        vertical-align: middle;\n    }\n\n    .dataframe tbody tr th {\n        vertical-align: top;\n    }\n\n    .dataframe thead th {\n        text-align: right;\n    }\n</style>\n<table border=\"1\" class=\"dataframe\">\n  <thead>\n    <tr style=\"text-align: right;\">\n      <th></th>\n      <th>leaving</th>\n      <th>gender</th>\n      <th>age</th>\n      <th>job_role</th>\n      <th>job_satisfaction</th>\n      <th>environment_satisfaction</th>\n      <th>over_time</th>\n      <th>income</th>\n    </tr>\n  </thead>\n  <tbody>\n    <tr>\n      <th>0</th>\n      <td>1</td>\n      <td>女性</td>\n      <td>41</td>\n      <td>営業責任者</td>\n      <td>4</td>\n      <td>2</td>\n      <td>1</td>\n      <td>1198.6</td>\n    </tr>\n    <tr>\n      <th>1</th>\n      <td>0</td>\n      <td>男性</td>\n      <td>49</td>\n      <td>研究員</td>\n      <td>2</td>\n      <td>3</td>\n      <td>0</td>\n      <td>1026.0</td>\n    </tr>\n    <tr>\n      <th>2</th>\n      <td>1</td>\n      <td>男性</td>\n      <td>37</td>\n      <td>技術者</td>\n      <td>3</td>\n      <td>4</td>\n      <td>1</td>\n      <td>418.0</td>\n    </tr>\n    <tr>\n      <th>3</th>\n      <td>0</td>\n      <td>女性</td>\n      <td>33</td>\n      <td>研究員</td>\n      <td>3</td>\n      <td>4</td>\n      <td>1</td>\n      <td>581.8</td>\n    </tr>\n    <tr>\n      <th>4</th>\n      <td>0</td>\n      <td>男性</td>\n      <td>27</td>\n      <td>技術者</td>\n      <td>2</td>\n      <td>1</td>\n      <td>0</td>\n      <td>693.6</td>\n    </tr>\n  </tbody>\n</table>\n</div>"
     },
     "execution_count": 5,
     "metadata": {},
     "output_type": "execute_result"
    }
   ],
   "source": [
    "import pandas as pd\n",
    "df = pd.read_csv(\"employee_train.csv\")\n",
    "df.head()"
   ]
  },
  {
   "cell_type": "code",
   "execution_count": 9,
   "metadata": {
    "ExecuteTime": {
     "end_time": "2023-12-12T15:17:49.143033Z",
     "start_time": "2023-12-12T15:17:49.125646Z"
    }
   },
   "outputs": [
    {
     "data": {
      "text/plain": "LogisticRegression(max_iter=1000)",
      "text/html": "<style>#sk-container-id-4 {color: black;}#sk-container-id-4 pre{padding: 0;}#sk-container-id-4 div.sk-toggleable {background-color: white;}#sk-container-id-4 label.sk-toggleable__label {cursor: pointer;display: block;width: 100%;margin-bottom: 0;padding: 0.3em;box-sizing: border-box;text-align: center;}#sk-container-id-4 label.sk-toggleable__label-arrow:before {content: \"▸\";float: left;margin-right: 0.25em;color: #696969;}#sk-container-id-4 label.sk-toggleable__label-arrow:hover:before {color: black;}#sk-container-id-4 div.sk-estimator:hover label.sk-toggleable__label-arrow:before {color: black;}#sk-container-id-4 div.sk-toggleable__content {max-height: 0;max-width: 0;overflow: hidden;text-align: left;background-color: #f0f8ff;}#sk-container-id-4 div.sk-toggleable__content pre {margin: 0.2em;color: black;border-radius: 0.25em;background-color: #f0f8ff;}#sk-container-id-4 input.sk-toggleable__control:checked~div.sk-toggleable__content {max-height: 200px;max-width: 100%;overflow: auto;}#sk-container-id-4 input.sk-toggleable__control:checked~label.sk-toggleable__label-arrow:before {content: \"▾\";}#sk-container-id-4 div.sk-estimator input.sk-toggleable__control:checked~label.sk-toggleable__label {background-color: #d4ebff;}#sk-container-id-4 div.sk-label input.sk-toggleable__control:checked~label.sk-toggleable__label {background-color: #d4ebff;}#sk-container-id-4 input.sk-hidden--visually {border: 0;clip: rect(1px 1px 1px 1px);clip: rect(1px, 1px, 1px, 1px);height: 1px;margin: -1px;overflow: hidden;padding: 0;position: absolute;width: 1px;}#sk-container-id-4 div.sk-estimator {font-family: monospace;background-color: #f0f8ff;border: 1px dotted black;border-radius: 0.25em;box-sizing: border-box;margin-bottom: 0.5em;}#sk-container-id-4 div.sk-estimator:hover {background-color: #d4ebff;}#sk-container-id-4 div.sk-parallel-item::after {content: \"\";width: 100%;border-bottom: 1px solid gray;flex-grow: 1;}#sk-container-id-4 div.sk-label:hover label.sk-toggleable__label {background-color: #d4ebff;}#sk-container-id-4 div.sk-serial::before {content: \"\";position: absolute;border-left: 1px solid gray;box-sizing: border-box;top: 0;bottom: 0;left: 50%;z-index: 0;}#sk-container-id-4 div.sk-serial {display: flex;flex-direction: column;align-items: center;background-color: white;padding-right: 0.2em;padding-left: 0.2em;position: relative;}#sk-container-id-4 div.sk-item {position: relative;z-index: 1;}#sk-container-id-4 div.sk-parallel {display: flex;align-items: stretch;justify-content: center;background-color: white;position: relative;}#sk-container-id-4 div.sk-item::before, #sk-container-id-4 div.sk-parallel-item::before {content: \"\";position: absolute;border-left: 1px solid gray;box-sizing: border-box;top: 0;bottom: 0;left: 50%;z-index: -1;}#sk-container-id-4 div.sk-parallel-item {display: flex;flex-direction: column;z-index: 1;position: relative;background-color: white;}#sk-container-id-4 div.sk-parallel-item:first-child::after {align-self: flex-end;width: 50%;}#sk-container-id-4 div.sk-parallel-item:last-child::after {align-self: flex-start;width: 50%;}#sk-container-id-4 div.sk-parallel-item:only-child::after {width: 0;}#sk-container-id-4 div.sk-dashed-wrapped {border: 1px dashed gray;margin: 0 0.4em 0.5em 0.4em;box-sizing: border-box;padding-bottom: 0.4em;background-color: white;}#sk-container-id-4 div.sk-label label {font-family: monospace;font-weight: bold;display: inline-block;line-height: 1.2em;}#sk-container-id-4 div.sk-label-container {text-align: center;}#sk-container-id-4 div.sk-container {/* jupyter's `normalize.less` sets `[hidden] { display: none; }` but bootstrap.min.css set `[hidden] { display: none !important; }` so we also need the `!important` here to be able to override the default hidden behavior on the sphinx rendered scikit-learn.org. See: https://github.com/scikit-learn/scikit-learn/issues/21755 */display: inline-block !important;position: relative;}#sk-container-id-4 div.sk-text-repr-fallback {display: none;}</style><div id=\"sk-container-id-4\" class=\"sk-top-container\"><div class=\"sk-text-repr-fallback\"><pre>LogisticRegression(max_iter=1000)</pre><b>In a Jupyter environment, please rerun this cell to show the HTML representation or trust the notebook. <br />On GitHub, the HTML representation is unable to render, please try loading this page with nbviewer.org.</b></div><div class=\"sk-container\" hidden><div class=\"sk-item\"><div class=\"sk-estimator sk-toggleable\"><input class=\"sk-toggleable__control sk-hidden--visually\" id=\"sk-estimator-id-4\" type=\"checkbox\" checked><label for=\"sk-estimator-id-4\" class=\"sk-toggleable__label sk-toggleable__label-arrow\">LogisticRegression</label><div class=\"sk-toggleable__content\"><pre>LogisticRegression(max_iter=1000)</pre></div></div></div></div></div>"
     },
     "execution_count": 9,
     "metadata": {},
     "output_type": "execute_result"
    }
   ],
   "source": [
    "# 1. Logistic Regressionモデルクラスの読み込み\n",
    "from sklearn.linear_model import LogisticRegression\n",
    "# 2. 特徴量と正解データの設定\n",
    "# 予測したい列(正解データ)\n",
    "target_col = 'leaving'\n",
    "# 使いたい特徴量\n",
    "feature_cols = ['age', 'job_satisfaction', 'environment_satisfaction',\n",
    "'over_time', 'income']\n",
    "# dfはデータ観察で読み込んであります。\n",
    "# モデルの学習を行うために「X: 特徴量」「y: 正解データ」に分割します\n",
    "y_train = df[target_col]\n",
    "X_train = df[feature_cols]\n",
    "# 3. モデルの学習\n",
    "# モデルの初期化\n",
    "model = LogisticRegression(max_iter=1000)\n",
    "# モデルの学習\n",
    "model.fit(X_train, y_train)"
   ]
  },
  {
   "cell_type": "code",
   "execution_count": 10,
   "metadata": {
    "ExecuteTime": {
     "end_time": "2023-12-12T15:17:55.865921Z",
     "start_time": "2023-12-12T15:17:55.852887Z"
    }
   },
   "outputs": [
    {
     "data": {
      "text/plain": "   leaving  pred_leaving\n0        1             0\n1        0             0\n2        1             0\n3        0             0\n4        0             0",
      "text/html": "<div>\n<style scoped>\n    .dataframe tbody tr th:only-of-type {\n        vertical-align: middle;\n    }\n\n    .dataframe tbody tr th {\n        vertical-align: top;\n    }\n\n    .dataframe thead th {\n        text-align: right;\n    }\n</style>\n<table border=\"1\" class=\"dataframe\">\n  <thead>\n    <tr style=\"text-align: right;\">\n      <th></th>\n      <th>leaving</th>\n      <th>pred_leaving</th>\n    </tr>\n  </thead>\n  <tbody>\n    <tr>\n      <th>0</th>\n      <td>1</td>\n      <td>0</td>\n    </tr>\n    <tr>\n      <th>1</th>\n      <td>0</td>\n      <td>0</td>\n    </tr>\n    <tr>\n      <th>2</th>\n      <td>1</td>\n      <td>0</td>\n    </tr>\n    <tr>\n      <th>3</th>\n      <td>0</td>\n      <td>0</td>\n    </tr>\n    <tr>\n      <th>4</th>\n      <td>0</td>\n      <td>0</td>\n    </tr>\n  </tbody>\n</table>\n</div>"
     },
     "execution_count": 10,
     "metadata": {},
     "output_type": "execute_result"
    }
   ],
   "source": [
    "# 学習したモデルを用いて予測を行う。\n",
    "df[\"pred_leaving\"] = model.predict(X_train)\n",
    "# 表示するカラムを予測値と正解の値のみに絞って比較する。\n",
    "df[[\"leaving\", \"pred_leaving\"]].head()"
   ]
  },
  {
   "cell_type": "code",
   "execution_count": 11,
   "metadata": {
    "ExecuteTime": {
     "end_time": "2023-12-12T15:18:03.007482Z",
     "start_time": "2023-12-12T15:18:02.986199Z"
    }
   },
   "outputs": [
    {
     "name": "stdout",
     "output_type": "stream",
     "text": [
      "Accuracy:  0.844\n"
     ]
    }
   ],
   "source": [
    "from sklearn.metrics import accuracy_score\n",
    "accuracy = accuracy_score(df[\"leaving\"], df[\"pred_leaving\"])\n",
    "print('Accuracy: ', accuracy)"
   ]
  },
  {
   "cell_type": "code",
   "execution_count": 13,
   "metadata": {
    "ExecuteTime": {
     "end_time": "2023-12-12T15:18:17.110211Z",
     "start_time": "2023-12-12T15:18:17.101508Z"
    }
   },
   "outputs": [
    {
     "data": {
      "text/plain": "  gender  age job_role  job_satisfaction  environment_satisfaction  over_time  \\\n0     女性   52      技術者                 1                         3          0   \n1     女性   37      技術者                 3                         1          0   \n2     男性   35     製造部長                 4                         3          0   \n3     男性   25      技術者                 4                         1          0   \n4     男性   26      技術者                 1                         3          0   \n\n   monthly_income   income  \n0            2950   590.00  \n1            3629   725.80  \n2            9362  1310.68  \n3            3229   645.80  \n4            3578   715.60  ",
      "text/html": "<div>\n<style scoped>\n    .dataframe tbody tr th:only-of-type {\n        vertical-align: middle;\n    }\n\n    .dataframe tbody tr th {\n        vertical-align: top;\n    }\n\n    .dataframe thead th {\n        text-align: right;\n    }\n</style>\n<table border=\"1\" class=\"dataframe\">\n  <thead>\n    <tr style=\"text-align: right;\">\n      <th></th>\n      <th>gender</th>\n      <th>age</th>\n      <th>job_role</th>\n      <th>job_satisfaction</th>\n      <th>environment_satisfaction</th>\n      <th>over_time</th>\n      <th>monthly_income</th>\n      <th>income</th>\n    </tr>\n  </thead>\n  <tbody>\n    <tr>\n      <th>0</th>\n      <td>女性</td>\n      <td>52</td>\n      <td>技術者</td>\n      <td>1</td>\n      <td>3</td>\n      <td>0</td>\n      <td>2950</td>\n      <td>590.00</td>\n    </tr>\n    <tr>\n      <th>1</th>\n      <td>女性</td>\n      <td>37</td>\n      <td>技術者</td>\n      <td>3</td>\n      <td>1</td>\n      <td>0</td>\n      <td>3629</td>\n      <td>725.80</td>\n    </tr>\n    <tr>\n      <th>2</th>\n      <td>男性</td>\n      <td>35</td>\n      <td>製造部長</td>\n      <td>4</td>\n      <td>3</td>\n      <td>0</td>\n      <td>9362</td>\n      <td>1310.68</td>\n    </tr>\n    <tr>\n      <th>3</th>\n      <td>男性</td>\n      <td>25</td>\n      <td>技術者</td>\n      <td>4</td>\n      <td>1</td>\n      <td>0</td>\n      <td>3229</td>\n      <td>645.80</td>\n    </tr>\n    <tr>\n      <th>4</th>\n      <td>男性</td>\n      <td>26</td>\n      <td>技術者</td>\n      <td>1</td>\n      <td>3</td>\n      <td>0</td>\n      <td>3578</td>\n      <td>715.60</td>\n    </tr>\n  </tbody>\n</table>\n</div>"
     },
     "execution_count": 13,
     "metadata": {},
     "output_type": "execute_result"
    }
   ],
   "source": [
    "df_pred = pd.read_csv(\"employee_pred.csv\")\n",
    "df_pred.head()"
   ]
  },
  {
   "cell_type": "code",
   "execution_count": 18,
   "metadata": {
    "ExecuteTime": {
     "end_time": "2023-12-12T15:20:43.793883Z",
     "start_time": "2023-12-12T15:20:43.780603Z"
    }
   },
   "outputs": [
    {
     "data": {
      "text/plain": "  gender  age job_role  job_satisfaction  environment_satisfaction  over_time  \\\n0     女性   52      技術者                 1                         3          0   \n1     女性   37      技術者                 3                         1          0   \n2     男性   35     製造部長                 4                         3          0   \n3     男性   25      技術者                 4                         1          0   \n4     男性   26      技術者                 1                         3          0   \n\n   monthly_income   income  pred_rent_price  \n0            2950   590.00                0  \n1            3629   725.80                0  \n2            9362  1310.68                0  \n3            3229   645.80                0  \n4            3578   715.60                0  ",
      "text/html": "<div>\n<style scoped>\n    .dataframe tbody tr th:only-of-type {\n        vertical-align: middle;\n    }\n\n    .dataframe tbody tr th {\n        vertical-align: top;\n    }\n\n    .dataframe thead th {\n        text-align: right;\n    }\n</style>\n<table border=\"1\" class=\"dataframe\">\n  <thead>\n    <tr style=\"text-align: right;\">\n      <th></th>\n      <th>gender</th>\n      <th>age</th>\n      <th>job_role</th>\n      <th>job_satisfaction</th>\n      <th>environment_satisfaction</th>\n      <th>over_time</th>\n      <th>monthly_income</th>\n      <th>income</th>\n      <th>pred_rent_price</th>\n    </tr>\n  </thead>\n  <tbody>\n    <tr>\n      <th>0</th>\n      <td>女性</td>\n      <td>52</td>\n      <td>技術者</td>\n      <td>1</td>\n      <td>3</td>\n      <td>0</td>\n      <td>2950</td>\n      <td>590.00</td>\n      <td>0</td>\n    </tr>\n    <tr>\n      <th>1</th>\n      <td>女性</td>\n      <td>37</td>\n      <td>技術者</td>\n      <td>3</td>\n      <td>1</td>\n      <td>0</td>\n      <td>3629</td>\n      <td>725.80</td>\n      <td>0</td>\n    </tr>\n    <tr>\n      <th>2</th>\n      <td>男性</td>\n      <td>35</td>\n      <td>製造部長</td>\n      <td>4</td>\n      <td>3</td>\n      <td>0</td>\n      <td>9362</td>\n      <td>1310.68</td>\n      <td>0</td>\n    </tr>\n    <tr>\n      <th>3</th>\n      <td>男性</td>\n      <td>25</td>\n      <td>技術者</td>\n      <td>4</td>\n      <td>1</td>\n      <td>0</td>\n      <td>3229</td>\n      <td>645.80</td>\n      <td>0</td>\n    </tr>\n    <tr>\n      <th>4</th>\n      <td>男性</td>\n      <td>26</td>\n      <td>技術者</td>\n      <td>1</td>\n      <td>3</td>\n      <td>0</td>\n      <td>3578</td>\n      <td>715.60</td>\n      <td>0</td>\n    </tr>\n  </tbody>\n</table>\n</div>"
     },
     "execution_count": 18,
     "metadata": {},
     "output_type": "execute_result"
    }
   ],
   "source": [
    "# 順番に注意\n",
    "feature_cols = ['age', 'job_satisfaction', 'environment_satisfaction',\n",
    "'over_time', 'income']\n",
    "# 使った特徴量だけに限定\n",
    "X_pred = df_pred[feature_cols].copy()\n",
    "# 予測を行う\n",
    "df_pred[\"pred_rent_price\"] = model.predict(X_pred)\n",
    "# 先頭を表示\n",
    "df_pred.head()"
   ]
  },
  {
   "cell_type": "code",
   "execution_count": null,
   "metadata": {},
   "outputs": [],
   "source": []
  }
 ],
 "metadata": {
  "kernelspec": {
   "display_name": "Python 3",
   "language": "python",
   "name": "python3"
  },
  "language_info": {
   "codemirror_mode": {
    "name": "ipython",
    "version": 3
   },
   "file_extension": ".py",
   "mimetype": "text/x-python",
   "name": "python",
   "nbconvert_exporter": "python",
   "pygments_lexer": "ipython3",
   "version": "3.11.0"
  },
  "orig_nbformat": 4
 },
 "nbformat": 4,
 "nbformat_minor": 2
}
