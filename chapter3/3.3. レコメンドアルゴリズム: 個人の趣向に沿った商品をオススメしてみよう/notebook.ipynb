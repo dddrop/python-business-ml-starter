{
 "cells": [
  {
   "cell_type": "code",
   "execution_count": 1,
   "id": "98660336",
   "metadata": {
    "ExecuteTime": {
     "end_time": "2023-12-13T13:57:44.563992Z",
     "start_time": "2023-12-13T13:57:44.221733Z"
    }
   },
   "outputs": [
    {
     "data": {
      "text/plain": "          犬    猫  ペンギン  イルカ  パンダ\nuser_1  NaN  5.0   NaN  5.0  NaN\nuser_2  NaN  NaN   5.0  NaN  2.0\nuser_3  NaN  5.0   5.0  NaN  5.0\nuser_4  4.0  NaN   NaN  4.0  5.0\nuser_5  5.0  4.0   NaN  NaN  5.0",
      "text/html": "<div>\n<style scoped>\n    .dataframe tbody tr th:only-of-type {\n        vertical-align: middle;\n    }\n\n    .dataframe tbody tr th {\n        vertical-align: top;\n    }\n\n    .dataframe thead th {\n        text-align: right;\n    }\n</style>\n<table border=\"1\" class=\"dataframe\">\n  <thead>\n    <tr style=\"text-align: right;\">\n      <th></th>\n      <th>犬</th>\n      <th>猫</th>\n      <th>ペンギン</th>\n      <th>イルカ</th>\n      <th>パンダ</th>\n    </tr>\n  </thead>\n  <tbody>\n    <tr>\n      <th>user_1</th>\n      <td>NaN</td>\n      <td>5.0</td>\n      <td>NaN</td>\n      <td>5.0</td>\n      <td>NaN</td>\n    </tr>\n    <tr>\n      <th>user_2</th>\n      <td>NaN</td>\n      <td>NaN</td>\n      <td>5.0</td>\n      <td>NaN</td>\n      <td>2.0</td>\n    </tr>\n    <tr>\n      <th>user_3</th>\n      <td>NaN</td>\n      <td>5.0</td>\n      <td>5.0</td>\n      <td>NaN</td>\n      <td>5.0</td>\n    </tr>\n    <tr>\n      <th>user_4</th>\n      <td>4.0</td>\n      <td>NaN</td>\n      <td>NaN</td>\n      <td>4.0</td>\n      <td>5.0</td>\n    </tr>\n    <tr>\n      <th>user_5</th>\n      <td>5.0</td>\n      <td>4.0</td>\n      <td>NaN</td>\n      <td>NaN</td>\n      <td>5.0</td>\n    </tr>\n  </tbody>\n</table>\n</div>"
     },
     "execution_count": 1,
     "metadata": {},
     "output_type": "execute_result"
    }
   ],
   "source": [
    "import pandas as pd\n",
    "df = pd.read_csv(\"animal_rating.csv\", index_col=0)\n",
    "df.head()"
   ]
  },
  {
   "cell_type": "code",
   "execution_count": 4,
   "id": "286c053d",
   "metadata": {
    "ExecuteTime": {
     "end_time": "2023-12-13T14:07:30.287393Z",
     "start_time": "2023-12-13T14:07:30.273019Z"
    }
   },
   "outputs": [
    {
     "data": {
      "text/plain": "   ユーザーID  商品ID  rating\n0  user_1     猫     5.0\n1  user_1   イルカ     5.0\n2  user_2  ペンギン     5.0\n3  user_2   パンダ     2.0\n4  user_3     猫     5.0",
      "text/html": "<div>\n<style scoped>\n    .dataframe tbody tr th:only-of-type {\n        vertical-align: middle;\n    }\n\n    .dataframe tbody tr th {\n        vertical-align: top;\n    }\n\n    .dataframe thead th {\n        text-align: right;\n    }\n</style>\n<table border=\"1\" class=\"dataframe\">\n  <thead>\n    <tr style=\"text-align: right;\">\n      <th></th>\n      <th>ユーザーID</th>\n      <th>商品ID</th>\n      <th>rating</th>\n    </tr>\n  </thead>\n  <tbody>\n    <tr>\n      <th>0</th>\n      <td>user_1</td>\n      <td>猫</td>\n      <td>5.0</td>\n    </tr>\n    <tr>\n      <th>1</th>\n      <td>user_1</td>\n      <td>イルカ</td>\n      <td>5.0</td>\n    </tr>\n    <tr>\n      <th>2</th>\n      <td>user_2</td>\n      <td>ペンギン</td>\n      <td>5.0</td>\n    </tr>\n    <tr>\n      <th>3</th>\n      <td>user_2</td>\n      <td>パンダ</td>\n      <td>2.0</td>\n    </tr>\n    <tr>\n      <th>4</th>\n      <td>user_3</td>\n      <td>猫</td>\n      <td>5.0</td>\n    </tr>\n  </tbody>\n</table>\n</div>"
     },
     "execution_count": 4,
     "metadata": {},
     "output_type": "execute_result"
    }
   ],
   "source": [
    "df_stacked = df.stack().to_frame().reset_index()\n",
    "df_stacked.columns = [\"ユーザーID\", \"商品ID\", \"rating\"]\n",
    "df_stacked.head()"
   ]
  },
  {
   "cell_type": "code",
   "execution_count": 5,
   "id": "11eeecb5",
   "metadata": {
    "ExecuteTime": {
     "end_time": "2023-12-13T14:07:32.171792Z",
     "start_time": "2023-12-13T14:07:32.163093Z"
    }
   },
   "outputs": [],
   "source": [
    "from surprise import Dataset, Reader\n",
    "reader = Reader(rating_scale=(1, 5))\n",
    "data = Dataset.load_from_df(df_stacked, reader)"
   ]
  },
  {
   "cell_type": "code",
   "execution_count": 9,
   "id": "5915d700",
   "metadata": {
    "ExecuteTime": {
     "end_time": "2023-12-13T14:24:37.648076Z",
     "start_time": "2023-12-13T14:24:37.641339Z"
    }
   },
   "outputs": [],
   "source": [
    "from surprise.model_selection import train_test_split\n",
    "train, test = train_test_split(data, test_size=.25, random_state=42) #"
   ]
  },
  {
   "cell_type": "code",
   "execution_count": 10,
   "id": "f5169d2e",
   "metadata": {
    "ExecuteTime": {
     "end_time": "2023-12-13T14:24:39.173245Z",
     "start_time": "2023-12-13T14:24:39.148696Z"
    }
   },
   "outputs": [
    {
     "data": {
      "text/plain": "<surprise.prediction_algorithms.matrix_factorization.SVD at 0x12ba9dbd0>"
     },
     "execution_count": 10,
     "metadata": {},
     "output_type": "execute_result"
    }
   ],
   "source": [
    "from surprise import SVD\n",
    "model = SVD()\n",
    "model.fit(train)"
   ]
  },
  {
   "cell_type": "code",
   "execution_count": 8,
   "id": "6702cf0f",
   "metadata": {},
   "outputs": [
    {
     "name": "stdout",
     "output_type": "stream",
     "text": [
      "RMSE: 1.1969\n"
     ]
    },
    {
     "data": {
      "text/plain": [
       "1.1969032652789013"
      ]
     },
     "execution_count": 8,
     "metadata": {},
     "output_type": "execute_result"
    }
   ],
   "source": [
    "from surprise import accuracy\n",
    "test_pred = model.test(test)\n",
    "accuracy.rmse(test_pred)\n",
    "# RMSE: 1.8490"
   ]
  },
  {
   "cell_type": "code",
   "execution_count": 11,
   "id": "7c3e42a8",
   "metadata": {
    "ExecuteTime": {
     "end_time": "2023-12-13T14:24:42.801090Z",
     "start_time": "2023-12-13T14:24:42.794817Z"
    }
   },
   "outputs": [
    {
     "name": "stdout",
     "output_type": "stream",
     "text": [
      "user_70に対するおすすめ度\n",
      "犬\t4.2\n",
      "猫\t3.5\n",
      "ペンギン\t5.0\n",
      "イルカ\t4.3\n",
      "パンダ\t3.9\n"
     ]
    }
   ],
   "source": [
    "user_id = \"user_70\"\n",
    "print(f\"{user_id}に対するおすすめ度\") \n",
    "for item_id in [\"犬\", \"猫\", \"ペンギン\", \"イルカ\", \"パンダ\"]:     \n",
    "    pred = model.predict(user_id, item_id)     \n",
    "    print(f\"{item_id}\\t{pred.est:.2}\", )"
   ]
  },
  {
   "cell_type": "code",
   "execution_count": null,
   "outputs": [],
   "source": [],
   "metadata": {
    "collapsed": false
   },
   "id": "b0b65c6e8efdb239"
  }
 ],
 "metadata": {
  "kernelspec": {
   "display_name": "Python 3 (ipykernel)",
   "language": "python",
   "name": "python3"
  },
  "language_info": {
   "codemirror_mode": {
    "name": "ipython",
    "version": 3
   },
   "file_extension": ".py",
   "mimetype": "text/x-python",
   "name": "python",
   "nbconvert_exporter": "python",
   "pygments_lexer": "ipython3",
   "version": "3.11.0"
  }
 },
 "nbformat": 4,
 "nbformat_minor": 5
}
